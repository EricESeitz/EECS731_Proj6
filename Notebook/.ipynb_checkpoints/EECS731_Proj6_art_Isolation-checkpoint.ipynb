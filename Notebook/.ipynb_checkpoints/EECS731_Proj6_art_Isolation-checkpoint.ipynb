{
 "cells": [
  {
   "cell_type": "code",
   "execution_count": 1,
   "metadata": {},
   "outputs": [],
   "source": [
    "import numpy as np\n",
    "import pandas as pd"
   ]
  },
  {
   "cell_type": "code",
   "execution_count": 2,
   "metadata": {},
   "outputs": [
    {
     "data": {
      "text/html": [
       "<div>\n",
       "<style scoped>\n",
       "    .dataframe tbody tr th:only-of-type {\n",
       "        vertical-align: middle;\n",
       "    }\n",
       "\n",
       "    .dataframe tbody tr th {\n",
       "        vertical-align: top;\n",
       "    }\n",
       "\n",
       "    .dataframe thead th {\n",
       "        text-align: right;\n",
       "    }\n",
       "</style>\n",
       "<table border=\"1\" class=\"dataframe\">\n",
       "  <thead>\n",
       "    <tr style=\"text-align: right;\">\n",
       "      <th></th>\n",
       "      <th>timestamp</th>\n",
       "      <th>value</th>\n",
       "    </tr>\n",
       "  </thead>\n",
       "  <tbody>\n",
       "    <tr>\n",
       "      <th>0</th>\n",
       "      <td>2014-04-01 00:00:00</td>\n",
       "      <td>19.761252</td>\n",
       "    </tr>\n",
       "    <tr>\n",
       "      <th>1</th>\n",
       "      <td>2014-04-01 00:05:00</td>\n",
       "      <td>20.500833</td>\n",
       "    </tr>\n",
       "    <tr>\n",
       "      <th>2</th>\n",
       "      <td>2014-04-01 00:10:00</td>\n",
       "      <td>19.961641</td>\n",
       "    </tr>\n",
       "    <tr>\n",
       "      <th>3</th>\n",
       "      <td>2014-04-01 00:15:00</td>\n",
       "      <td>21.490266</td>\n",
       "    </tr>\n",
       "    <tr>\n",
       "      <th>4</th>\n",
       "      <td>2014-04-01 00:20:00</td>\n",
       "      <td>20.187739</td>\n",
       "    </tr>\n",
       "    <tr>\n",
       "      <th>...</th>\n",
       "      <td>...</td>\n",
       "      <td>...</td>\n",
       "    </tr>\n",
       "    <tr>\n",
       "      <th>4027</th>\n",
       "      <td>2014-04-14 23:35:00</td>\n",
       "      <td>18.074649</td>\n",
       "    </tr>\n",
       "    <tr>\n",
       "      <th>4028</th>\n",
       "      <td>2014-04-14 23:40:00</td>\n",
       "      <td>21.002014</td>\n",
       "    </tr>\n",
       "    <tr>\n",
       "      <th>4029</th>\n",
       "      <td>2014-04-14 23:45:00</td>\n",
       "      <td>20.566713</td>\n",
       "    </tr>\n",
       "    <tr>\n",
       "      <th>4030</th>\n",
       "      <td>2014-04-14 23:50:00</td>\n",
       "      <td>18.254193</td>\n",
       "    </tr>\n",
       "    <tr>\n",
       "      <th>4031</th>\n",
       "      <td>2014-04-14 23:55:00</td>\n",
       "      <td>21.863147</td>\n",
       "    </tr>\n",
       "  </tbody>\n",
       "</table>\n",
       "<p>4032 rows × 2 columns</p>\n",
       "</div>"
      ],
      "text/plain": [
       "                timestamp      value\n",
       "0     2014-04-01 00:00:00  19.761252\n",
       "1     2014-04-01 00:05:00  20.500833\n",
       "2     2014-04-01 00:10:00  19.961641\n",
       "3     2014-04-01 00:15:00  21.490266\n",
       "4     2014-04-01 00:20:00  20.187739\n",
       "...                   ...        ...\n",
       "4027  2014-04-14 23:35:00  18.074649\n",
       "4028  2014-04-14 23:40:00  21.002014\n",
       "4029  2014-04-14 23:45:00  20.566713\n",
       "4030  2014-04-14 23:50:00  18.254193\n",
       "4031  2014-04-14 23:55:00  21.863147\n",
       "\n",
       "[4032 rows x 2 columns]"
      ]
     },
     "execution_count": 2,
     "metadata": {},
     "output_type": "execute_result"
    }
   ],
   "source": [
    "initialData = pd.read_csv(r\"C:\\Users\\Eric\\Documents\\EECS 731\\Proj6\\Data\\artificialWithAnomaly\\artificialWithAnomaly\\art_daily_jumpsup.csv\")\n",
    "initialData"
   ]
  },
  {
   "cell_type": "code",
   "execution_count": 3,
   "metadata": {},
   "outputs": [
    {
     "name": "stdout",
     "output_type": "stream",
     "text": [
      "<class 'pandas.core.frame.DataFrame'>\n",
      "RangeIndex: 4032 entries, 0 to 4031\n",
      "Data columns (total 2 columns):\n",
      " #   Column     Non-Null Count  Dtype  \n",
      "---  ------     --------------  -----  \n",
      " 0   timestamp  4032 non-null   object \n",
      " 1   value      4032 non-null   float64\n",
      "dtypes: float64(1), object(1)\n",
      "memory usage: 63.1+ KB\n"
     ]
    }
   ],
   "source": [
    "initialData.info()"
   ]
  },
  {
   "cell_type": "code",
   "execution_count": 13,
   "metadata": {},
   "outputs": [],
   "source": [
    "#Change timestamp from object to datetime\n",
    "initialData['timestamp'] = pd.to_datetime(initialData['timestamp'], errors='coerce')"
   ]
  },
  {
   "cell_type": "code",
   "execution_count": 14,
   "metadata": {},
   "outputs": [
    {
     "name": "stdout",
     "output_type": "stream",
     "text": [
      "<class 'pandas.core.frame.DataFrame'>\n",
      "RangeIndex: 4032 entries, 0 to 4031\n",
      "Data columns (total 2 columns):\n",
      " #   Column     Non-Null Count  Dtype         \n",
      "---  ------     --------------  -----         \n",
      " 0   timestamp  4032 non-null   datetime64[ns]\n",
      " 1   value      4032 non-null   float64       \n",
      "dtypes: datetime64[ns](1), float64(1)\n",
      "memory usage: 63.1 KB\n"
     ]
    }
   ],
   "source": [
    "initialData.info()"
   ]
  },
  {
   "cell_type": "code",
   "execution_count": 6,
   "metadata": {},
   "outputs": [],
   "source": [
    "#initialData['timestamp'] = pd.to_datetime(initialData['timestamp'])"
   ]
  },
  {
   "cell_type": "code",
   "execution_count": 7,
   "metadata": {},
   "outputs": [
    {
     "name": "stdout",
     "output_type": "stream",
     "text": [
      "<class 'pandas.core.frame.DataFrame'>\n",
      "RangeIndex: 4032 entries, 0 to 4031\n",
      "Data columns (total 2 columns):\n",
      " #   Column     Non-Null Count  Dtype  \n",
      "---  ------     --------------  -----  \n",
      " 0   timestamp  4032 non-null   object \n",
      " 1   value      4032 non-null   float64\n",
      "dtypes: float64(1), object(1)\n",
      "memory usage: 63.1+ KB\n"
     ]
    }
   ],
   "source": [
    "initialData.info()"
   ]
  },
  {
   "cell_type": "code",
   "execution_count": 8,
   "metadata": {},
   "outputs": [
    {
     "data": {
      "text/html": [
       "<div>\n",
       "<style scoped>\n",
       "    .dataframe tbody tr th:only-of-type {\n",
       "        vertical-align: middle;\n",
       "    }\n",
       "\n",
       "    .dataframe tbody tr th {\n",
       "        vertical-align: top;\n",
       "    }\n",
       "\n",
       "    .dataframe thead th {\n",
       "        text-align: right;\n",
       "    }\n",
       "</style>\n",
       "<table border=\"1\" class=\"dataframe\">\n",
       "  <thead>\n",
       "    <tr style=\"text-align: right;\">\n",
       "      <th></th>\n",
       "      <th>timestamp</th>\n",
       "      <th>value</th>\n",
       "    </tr>\n",
       "  </thead>\n",
       "  <tbody>\n",
       "    <tr>\n",
       "      <th>0</th>\n",
       "      <td>2014-04-01 00:00:00</td>\n",
       "      <td>19.761252</td>\n",
       "    </tr>\n",
       "    <tr>\n",
       "      <th>1</th>\n",
       "      <td>2014-04-01 00:05:00</td>\n",
       "      <td>20.500833</td>\n",
       "    </tr>\n",
       "    <tr>\n",
       "      <th>2</th>\n",
       "      <td>2014-04-01 00:10:00</td>\n",
       "      <td>19.961641</td>\n",
       "    </tr>\n",
       "    <tr>\n",
       "      <th>3</th>\n",
       "      <td>2014-04-01 00:15:00</td>\n",
       "      <td>21.490266</td>\n",
       "    </tr>\n",
       "    <tr>\n",
       "      <th>4</th>\n",
       "      <td>2014-04-01 00:20:00</td>\n",
       "      <td>20.187739</td>\n",
       "    </tr>\n",
       "    <tr>\n",
       "      <th>...</th>\n",
       "      <td>...</td>\n",
       "      <td>...</td>\n",
       "    </tr>\n",
       "    <tr>\n",
       "      <th>4027</th>\n",
       "      <td>2014-04-14 23:35:00</td>\n",
       "      <td>18.074649</td>\n",
       "    </tr>\n",
       "    <tr>\n",
       "      <th>4028</th>\n",
       "      <td>2014-04-14 23:40:00</td>\n",
       "      <td>21.002014</td>\n",
       "    </tr>\n",
       "    <tr>\n",
       "      <th>4029</th>\n",
       "      <td>2014-04-14 23:45:00</td>\n",
       "      <td>20.566713</td>\n",
       "    </tr>\n",
       "    <tr>\n",
       "      <th>4030</th>\n",
       "      <td>2014-04-14 23:50:00</td>\n",
       "      <td>18.254193</td>\n",
       "    </tr>\n",
       "    <tr>\n",
       "      <th>4031</th>\n",
       "      <td>2014-04-14 23:55:00</td>\n",
       "      <td>21.863147</td>\n",
       "    </tr>\n",
       "  </tbody>\n",
       "</table>\n",
       "<p>4032 rows × 2 columns</p>\n",
       "</div>"
      ],
      "text/plain": [
       "                timestamp      value\n",
       "0     2014-04-01 00:00:00  19.761252\n",
       "1     2014-04-01 00:05:00  20.500833\n",
       "2     2014-04-01 00:10:00  19.961641\n",
       "3     2014-04-01 00:15:00  21.490266\n",
       "4     2014-04-01 00:20:00  20.187739\n",
       "...                   ...        ...\n",
       "4027  2014-04-14 23:35:00  18.074649\n",
       "4028  2014-04-14 23:40:00  21.002014\n",
       "4029  2014-04-14 23:45:00  20.566713\n",
       "4030  2014-04-14 23:50:00  18.254193\n",
       "4031  2014-04-14 23:55:00  21.863147\n",
       "\n",
       "[4032 rows x 2 columns]"
      ]
     },
     "execution_count": 8,
     "metadata": {},
     "output_type": "execute_result"
    }
   ],
   "source": [
    "initialData"
   ]
  },
  {
   "cell_type": "code",
   "execution_count": 9,
   "metadata": {},
   "outputs": [
    {
     "data": {
      "text/html": [
       "<div>\n",
       "<style scoped>\n",
       "    .dataframe tbody tr th:only-of-type {\n",
       "        vertical-align: middle;\n",
       "    }\n",
       "\n",
       "    .dataframe tbody tr th {\n",
       "        vertical-align: top;\n",
       "    }\n",
       "\n",
       "    .dataframe thead th {\n",
       "        text-align: right;\n",
       "    }\n",
       "</style>\n",
       "<table border=\"1\" class=\"dataframe\">\n",
       "  <thead>\n",
       "    <tr style=\"text-align: right;\">\n",
       "      <th></th>\n",
       "      <th>timestamp</th>\n",
       "      <th>value</th>\n",
       "    </tr>\n",
       "  </thead>\n",
       "  <tbody>\n",
       "    <tr>\n",
       "      <th>0</th>\n",
       "      <td>2014-04-01 00:00:00</td>\n",
       "      <td>19.761252</td>\n",
       "    </tr>\n",
       "    <tr>\n",
       "      <th>1</th>\n",
       "      <td>2014-04-01 00:05:00</td>\n",
       "      <td>20.500833</td>\n",
       "    </tr>\n",
       "    <tr>\n",
       "      <th>2</th>\n",
       "      <td>2014-04-01 00:10:00</td>\n",
       "      <td>19.961641</td>\n",
       "    </tr>\n",
       "    <tr>\n",
       "      <th>3</th>\n",
       "      <td>2014-04-01 00:15:00</td>\n",
       "      <td>21.490266</td>\n",
       "    </tr>\n",
       "    <tr>\n",
       "      <th>4</th>\n",
       "      <td>2014-04-01 00:20:00</td>\n",
       "      <td>20.187739</td>\n",
       "    </tr>\n",
       "    <tr>\n",
       "      <th>...</th>\n",
       "      <td>...</td>\n",
       "      <td>...</td>\n",
       "    </tr>\n",
       "    <tr>\n",
       "      <th>4027</th>\n",
       "      <td>2014-04-14 23:35:00</td>\n",
       "      <td>18.074649</td>\n",
       "    </tr>\n",
       "    <tr>\n",
       "      <th>4028</th>\n",
       "      <td>2014-04-14 23:40:00</td>\n",
       "      <td>21.002014</td>\n",
       "    </tr>\n",
       "    <tr>\n",
       "      <th>4029</th>\n",
       "      <td>2014-04-14 23:45:00</td>\n",
       "      <td>20.566713</td>\n",
       "    </tr>\n",
       "    <tr>\n",
       "      <th>4030</th>\n",
       "      <td>2014-04-14 23:50:00</td>\n",
       "      <td>18.254193</td>\n",
       "    </tr>\n",
       "    <tr>\n",
       "      <th>4031</th>\n",
       "      <td>2014-04-14 23:55:00</td>\n",
       "      <td>21.863147</td>\n",
       "    </tr>\n",
       "  </tbody>\n",
       "</table>\n",
       "<p>4032 rows × 2 columns</p>\n",
       "</div>"
      ],
      "text/plain": [
       "                timestamp      value\n",
       "0     2014-04-01 00:00:00  19.761252\n",
       "1     2014-04-01 00:05:00  20.500833\n",
       "2     2014-04-01 00:10:00  19.961641\n",
       "3     2014-04-01 00:15:00  21.490266\n",
       "4     2014-04-01 00:20:00  20.187739\n",
       "...                   ...        ...\n",
       "4027  2014-04-14 23:35:00  18.074649\n",
       "4028  2014-04-14 23:40:00  21.002014\n",
       "4029  2014-04-14 23:45:00  20.566713\n",
       "4030  2014-04-14 23:50:00  18.254193\n",
       "4031  2014-04-14 23:55:00  21.863147\n",
       "\n",
       "[4032 rows x 2 columns]"
      ]
     },
     "execution_count": 9,
     "metadata": {},
     "output_type": "execute_result"
    }
   ],
   "source": [
    "#initialData['timestamp'] = initialData['timestamp'].values.astype(float)\n",
    "initialData"
   ]
  },
  {
   "cell_type": "code",
   "execution_count": 10,
   "metadata": {},
   "outputs": [
    {
     "name": "stdout",
     "output_type": "stream",
     "text": [
      "<class 'pandas.core.frame.DataFrame'>\n",
      "RangeIndex: 4032 entries, 0 to 4031\n",
      "Data columns (total 2 columns):\n",
      " #   Column     Non-Null Count  Dtype  \n",
      "---  ------     --------------  -----  \n",
      " 0   timestamp  4032 non-null   object \n",
      " 1   value      4032 non-null   float64\n",
      "dtypes: float64(1), object(1)\n",
      "memory usage: 63.1+ KB\n"
     ]
    }
   ],
   "source": [
    "initialData.info()"
   ]
  },
  {
   "cell_type": "code",
   "execution_count": 15,
   "metadata": {},
   "outputs": [
    {
     "data": {
      "text/plain": [
       "<matplotlib.axes._subplots.AxesSubplot at 0x1e411352550>"
      ]
     },
     "execution_count": 15,
     "metadata": {},
     "output_type": "execute_result"
    },
    {
     "data": {
      "image/png": "[encoded data removed]",
      "text/plain": [
       "<Figure size 432x288 with 1 Axes>"
      ]
     },
     "metadata": {
      "needs_background": "light"
     },
     "output_type": "display_data"
    }
   ],
   "source": [
    "initialData.plot.scatter(x='timestamp', y='value')"
   ]
  },
  {
   "cell_type": "code",
   "execution_count": 20,
   "metadata": {},
   "outputs": [],
   "source": [
    "#Building an Isolation Forest \n",
    "#First run\n",
    "#Using: https://blog.paperspace.com/anomaly-detection-isolation-forest/\n",
    "import seaborn as sns\n",
    "import matplotlib.pyplot as plt\n",
    "from sklearn.ensemble import IsolationForest"
   ]
  },
  {
   "cell_type": "code",
   "execution_count": 21,
   "metadata": {},
   "outputs": [
    {
     "data": {
      "text/plain": [
       "IsolationForest(contamination=0.1, n_estimators=50)"
      ]
     },
     "execution_count": 21,
     "metadata": {},
     "output_type": "execute_result"
    }
   ],
   "source": [
    "model=IsolationForest(n_estimators=50, max_samples='auto', contamination=float(0.1),max_features=1.0)\n",
    "model.fit(initialData[['value']])"
   ]
  },
  {
   "cell_type": "code",
   "execution_count": 22,
   "metadata": {},
   "outputs": [
    {
     "data": {
      "text/html": [
       "<div>\n",
       "<style scoped>\n",
       "    .dataframe tbody tr th:only-of-type {\n",
       "        vertical-align: middle;\n",
       "    }\n",
       "\n",
       "    .dataframe tbody tr th {\n",
       "        vertical-align: top;\n",
       "    }\n",
       "\n",
       "    .dataframe thead th {\n",
       "        text-align: right;\n",
       "    }\n",
       "</style>\n",
       "<table border=\"1\" class=\"dataframe\">\n",
       "  <thead>\n",
       "    <tr style=\"text-align: right;\">\n",
       "      <th></th>\n",
       "      <th>timestamp</th>\n",
       "      <th>value</th>\n",
       "      <th>scores</th>\n",
       "      <th>anomaly</th>\n",
       "    </tr>\n",
       "  </thead>\n",
       "  <tbody>\n",
       "    <tr>\n",
       "      <th>0</th>\n",
       "      <td>2014-04-01 00:00:00</td>\n",
       "      <td>19.761252</td>\n",
       "      <td>0.142024</td>\n",
       "      <td>1</td>\n",
       "    </tr>\n",
       "    <tr>\n",
       "      <th>1</th>\n",
       "      <td>2014-04-01 00:05:00</td>\n",
       "      <td>20.500833</td>\n",
       "      <td>0.159777</td>\n",
       "      <td>1</td>\n",
       "    </tr>\n",
       "    <tr>\n",
       "      <th>2</th>\n",
       "      <td>2014-04-01 00:10:00</td>\n",
       "      <td>19.961641</td>\n",
       "      <td>0.143505</td>\n",
       "      <td>1</td>\n",
       "    </tr>\n",
       "    <tr>\n",
       "      <th>3</th>\n",
       "      <td>2014-04-01 00:15:00</td>\n",
       "      <td>21.490266</td>\n",
       "      <td>0.148920</td>\n",
       "      <td>1</td>\n",
       "    </tr>\n",
       "    <tr>\n",
       "      <th>4</th>\n",
       "      <td>2014-04-01 00:20:00</td>\n",
       "      <td>20.187739</td>\n",
       "      <td>0.155364</td>\n",
       "      <td>1</td>\n",
       "    </tr>\n",
       "    <tr>\n",
       "      <th>5</th>\n",
       "      <td>2014-04-01 00:25:00</td>\n",
       "      <td>19.923126</td>\n",
       "      <td>0.151610</td>\n",
       "      <td>1</td>\n",
       "    </tr>\n",
       "    <tr>\n",
       "      <th>6</th>\n",
       "      <td>2014-04-01 00:30:00</td>\n",
       "      <td>21.698404</td>\n",
       "      <td>0.152969</td>\n",
       "      <td>1</td>\n",
       "    </tr>\n",
       "    <tr>\n",
       "      <th>7</th>\n",
       "      <td>2014-04-01 00:35:00</td>\n",
       "      <td>20.878758</td>\n",
       "      <td>0.168895</td>\n",
       "      <td>1</td>\n",
       "    </tr>\n",
       "    <tr>\n",
       "      <th>8</th>\n",
       "      <td>2014-04-01 00:40:00</td>\n",
       "      <td>18.446200</td>\n",
       "      <td>0.094855</td>\n",
       "      <td>1</td>\n",
       "    </tr>\n",
       "    <tr>\n",
       "      <th>9</th>\n",
       "      <td>2014-04-01 00:45:00</td>\n",
       "      <td>18.710818</td>\n",
       "      <td>0.102927</td>\n",
       "      <td>1</td>\n",
       "    </tr>\n",
       "    <tr>\n",
       "      <th>10</th>\n",
       "      <td>2014-04-01 00:50:00</td>\n",
       "      <td>21.148491</td>\n",
       "      <td>0.163005</td>\n",
       "      <td>1</td>\n",
       "    </tr>\n",
       "    <tr>\n",
       "      <th>11</th>\n",
       "      <td>2014-04-01 00:55:00</td>\n",
       "      <td>21.343405</td>\n",
       "      <td>0.151752</td>\n",
       "      <td>1</td>\n",
       "    </tr>\n",
       "    <tr>\n",
       "      <th>12</th>\n",
       "      <td>2014-04-01 01:00:00</td>\n",
       "      <td>20.180763</td>\n",
       "      <td>0.155364</td>\n",
       "      <td>1</td>\n",
       "    </tr>\n",
       "    <tr>\n",
       "      <th>13</th>\n",
       "      <td>2014-04-01 01:05:00</td>\n",
       "      <td>20.217821</td>\n",
       "      <td>0.153962</td>\n",
       "      <td>1</td>\n",
       "    </tr>\n",
       "    <tr>\n",
       "      <th>14</th>\n",
       "      <td>2014-04-01 01:10:00</td>\n",
       "      <td>20.527732</td>\n",
       "      <td>0.159729</td>\n",
       "      <td>1</td>\n",
       "    </tr>\n",
       "    <tr>\n",
       "      <th>15</th>\n",
       "      <td>2014-04-01 01:15:00</td>\n",
       "      <td>19.756463</td>\n",
       "      <td>0.142024</td>\n",
       "      <td>1</td>\n",
       "    </tr>\n",
       "    <tr>\n",
       "      <th>16</th>\n",
       "      <td>2014-04-01 01:20:00</td>\n",
       "      <td>20.720796</td>\n",
       "      <td>0.165874</td>\n",
       "      <td>1</td>\n",
       "    </tr>\n",
       "    <tr>\n",
       "      <th>17</th>\n",
       "      <td>2014-04-01 01:25:00</td>\n",
       "      <td>18.433925</td>\n",
       "      <td>0.093075</td>\n",
       "      <td>1</td>\n",
       "    </tr>\n",
       "    <tr>\n",
       "      <th>18</th>\n",
       "      <td>2014-04-01 01:30:00</td>\n",
       "      <td>21.845117</td>\n",
       "      <td>0.139895</td>\n",
       "      <td>1</td>\n",
       "    </tr>\n",
       "    <tr>\n",
       "      <th>19</th>\n",
       "      <td>2014-04-01 01:35:00</td>\n",
       "      <td>21.000619</td>\n",
       "      <td>0.163837</td>\n",
       "      <td>1</td>\n",
       "    </tr>\n",
       "  </tbody>\n",
       "</table>\n",
       "</div>"
      ],
      "text/plain": [
       "             timestamp      value    scores  anomaly\n",
       "0  2014-04-01 00:00:00  19.761252  0.142024        1\n",
       "1  2014-04-01 00:05:00  20.500833  0.159777        1\n",
       "2  2014-04-01 00:10:00  19.961641  0.143505        1\n",
       "3  2014-04-01 00:15:00  21.490266  0.148920        1\n",
       "4  2014-04-01 00:20:00  20.187739  0.155364        1\n",
       "5  2014-04-01 00:25:00  19.923126  0.151610        1\n",
       "6  2014-04-01 00:30:00  21.698404  0.152969        1\n",
       "7  2014-04-01 00:35:00  20.878758  0.168895        1\n",
       "8  2014-04-01 00:40:00  18.446200  0.094855        1\n",
       "9  2014-04-01 00:45:00  18.710818  0.102927        1\n",
       "10 2014-04-01 00:50:00  21.148491  0.163005        1\n",
       "11 2014-04-01 00:55:00  21.343405  0.151752        1\n",
       "12 2014-04-01 01:00:00  20.180763  0.155364        1\n",
       "13 2014-04-01 01:05:00  20.217821  0.153962        1\n",
       "14 2014-04-01 01:10:00  20.527732  0.159729        1\n",
       "15 2014-04-01 01:15:00  19.756463  0.142024        1\n",
       "16 2014-04-01 01:20:00  20.720796  0.165874        1\n",
       "17 2014-04-01 01:25:00  18.433925  0.093075        1\n",
       "18 2014-04-01 01:30:00  21.845117  0.139895        1\n",
       "19 2014-04-01 01:35:00  21.000619  0.163837        1"
      ]
     },
     "execution_count": 22,
     "metadata": {},
     "output_type": "execute_result"
    }
   ],
   "source": [
    "initialData['scores']=model.decision_function(initialData[['value']])\n",
    "initialData['anomaly']=model.predict(initialData[['value']])\n",
    "initialData.head(20)"
   ]
  },
  {
   "cell_type": "code",
   "execution_count": 23,
   "metadata": {},
   "outputs": [
    {
     "name": "stdout",
     "output_type": "stream",
     "text": [
      "               timestamp      value    scores  anomaly\n",
      "49   2014-04-01 04:05:00  18.001010 -0.002394       -1\n",
      "111  2014-04-01 09:15:00  66.954407 -0.025101       -1\n",
      "113  2014-04-01 09:25:00  67.773128 -0.017562       -1\n",
      "115  2014-04-01 09:35:00  67.888398 -0.014904       -1\n",
      "118  2014-04-01 09:50:00  64.893745 -0.038290       -1\n",
      "...                  ...        ...       ...      ...\n",
      "3969 2014-04-14 18:45:00  34.209543 -0.064715       -1\n",
      "3970 2014-04-14 18:50:00  29.362274 -0.034161       -1\n",
      "3971 2014-04-14 18:55:00  34.290750 -0.069052       -1\n",
      "3973 2014-04-14 19:05:00  23.910419 -0.000126       -1\n",
      "3979 2014-04-14 19:35:00  24.518462 -0.020939       -1\n",
      "\n",
      "[404 rows x 4 columns]\n"
     ]
    }
   ],
   "source": [
    "anomaly=initialData.loc[initialData['anomaly']==-1]\n",
    "anomaly_index=list(anomaly.index)\n",
    "print(anomaly)"
   ]
  },
  {
   "cell_type": "code",
   "execution_count": 24,
   "metadata": {},
   "outputs": [
    {
     "data": {
      "text/plain": [
       "108"
      ]
     },
     "execution_count": 24,
     "metadata": {},
     "output_type": "execute_result"
    }
   ],
   "source": [
    "outliers_counter = len(initialData[initialData['value'] > 100])\n",
    "outliers_counter"
   ]
  },
  {
   "cell_type": "code",
   "execution_count": 25,
   "metadata": {},
   "outputs": [
    {
     "name": "stdout",
     "output_type": "stream",
     "text": [
      "Accuracy percentage: 374.0740740740741\n"
     ]
    }
   ],
   "source": [
    "print(\"Accuracy percentage:\", 100*list(initialData['anomaly']).count(-1)/(outliers_counter))"
   ]
  },
  {
   "cell_type": "code",
   "execution_count": 26,
   "metadata": {},
   "outputs": [
    {
     "data": {
      "text/html": [
       "<div>\n",
       "<style scoped>\n",
       "    .dataframe tbody tr th:only-of-type {\n",
       "        vertical-align: middle;\n",
       "    }\n",
       "\n",
       "    .dataframe tbody tr th {\n",
       "        vertical-align: top;\n",
       "    }\n",
       "\n",
       "    .dataframe thead th {\n",
       "        text-align: right;\n",
       "    }\n",
       "</style>\n",
       "<table border=\"1\" class=\"dataframe\">\n",
       "  <thead>\n",
       "    <tr style=\"text-align: right;\">\n",
       "      <th></th>\n",
       "      <th>timestamp</th>\n",
       "      <th>value</th>\n",
       "      <th>scores</th>\n",
       "      <th>anomaly</th>\n",
       "    </tr>\n",
       "  </thead>\n",
       "  <tbody>\n",
       "    <tr>\n",
       "      <th>49</th>\n",
       "      <td>2014-04-01 04:05:00</td>\n",
       "      <td>18.001010</td>\n",
       "      <td>-0.002394</td>\n",
       "      <td>-1</td>\n",
       "    </tr>\n",
       "    <tr>\n",
       "      <th>111</th>\n",
       "      <td>2014-04-01 09:15:00</td>\n",
       "      <td>66.954407</td>\n",
       "      <td>-0.025101</td>\n",
       "      <td>-1</td>\n",
       "    </tr>\n",
       "    <tr>\n",
       "      <th>113</th>\n",
       "      <td>2014-04-01 09:25:00</td>\n",
       "      <td>67.773128</td>\n",
       "      <td>-0.017562</td>\n",
       "      <td>-1</td>\n",
       "    </tr>\n",
       "    <tr>\n",
       "      <th>115</th>\n",
       "      <td>2014-04-01 09:35:00</td>\n",
       "      <td>67.888398</td>\n",
       "      <td>-0.014904</td>\n",
       "      <td>-1</td>\n",
       "    </tr>\n",
       "    <tr>\n",
       "      <th>118</th>\n",
       "      <td>2014-04-01 09:50:00</td>\n",
       "      <td>64.893745</td>\n",
       "      <td>-0.038290</td>\n",
       "      <td>-1</td>\n",
       "    </tr>\n",
       "    <tr>\n",
       "      <th>...</th>\n",
       "      <td>...</td>\n",
       "      <td>...</td>\n",
       "      <td>...</td>\n",
       "      <td>...</td>\n",
       "    </tr>\n",
       "    <tr>\n",
       "      <th>3969</th>\n",
       "      <td>2014-04-14 18:45:00</td>\n",
       "      <td>34.209543</td>\n",
       "      <td>-0.064715</td>\n",
       "      <td>-1</td>\n",
       "    </tr>\n",
       "    <tr>\n",
       "      <th>3970</th>\n",
       "      <td>2014-04-14 18:50:00</td>\n",
       "      <td>29.362274</td>\n",
       "      <td>-0.034161</td>\n",
       "      <td>-1</td>\n",
       "    </tr>\n",
       "    <tr>\n",
       "      <th>3971</th>\n",
       "      <td>2014-04-14 18:55:00</td>\n",
       "      <td>34.290750</td>\n",
       "      <td>-0.069052</td>\n",
       "      <td>-1</td>\n",
       "    </tr>\n",
       "    <tr>\n",
       "      <th>3973</th>\n",
       "      <td>2014-04-14 19:05:00</td>\n",
       "      <td>23.910419</td>\n",
       "      <td>-0.000126</td>\n",
       "      <td>-1</td>\n",
       "    </tr>\n",
       "    <tr>\n",
       "      <th>3979</th>\n",
       "      <td>2014-04-14 19:35:00</td>\n",
       "      <td>24.518462</td>\n",
       "      <td>-0.020939</td>\n",
       "      <td>-1</td>\n",
       "    </tr>\n",
       "  </tbody>\n",
       "</table>\n",
       "<p>404 rows × 4 columns</p>\n",
       "</div>"
      ],
      "text/plain": [
       "               timestamp      value    scores  anomaly\n",
       "49   2014-04-01 04:05:00  18.001010 -0.002394       -1\n",
       "111  2014-04-01 09:15:00  66.954407 -0.025101       -1\n",
       "113  2014-04-01 09:25:00  67.773128 -0.017562       -1\n",
       "115  2014-04-01 09:35:00  67.888398 -0.014904       -1\n",
       "118  2014-04-01 09:50:00  64.893745 -0.038290       -1\n",
       "...                  ...        ...       ...      ...\n",
       "3969 2014-04-14 18:45:00  34.209543 -0.064715       -1\n",
       "3970 2014-04-14 18:50:00  29.362274 -0.034161       -1\n",
       "3971 2014-04-14 18:55:00  34.290750 -0.069052       -1\n",
       "3973 2014-04-14 19:05:00  23.910419 -0.000126       -1\n",
       "3979 2014-04-14 19:35:00  24.518462 -0.020939       -1\n",
       "\n",
       "[404 rows x 4 columns]"
      ]
     },
     "execution_count": 26,
     "metadata": {},
     "output_type": "execute_result"
    }
   ],
   "source": [
    "anomaly"
   ]
  },
  {
   "cell_type": "code",
   "execution_count": 27,
   "metadata": {},
   "outputs": [
    {
     "data": {
      "text/plain": [
       "<matplotlib.axes._subplots.AxesSubplot at 0x1e4144b8fd0>"
      ]
     },
     "execution_count": 27,
     "metadata": {},
     "output_type": "execute_result"
    },
    {
     "data": {
      "image/png": "[encoded data removed]",
      "text/plain": [
       "<Figure size 432x288 with 1 Axes>"
      ]
     },
     "metadata": {
      "needs_background": "light"
     },
     "output_type": "display_data"
    }
   ],
   "source": [
    "anomaly.plot.scatter(x='timestamp', y='value')"
   ]
  },
  {
   "cell_type": "code",
   "execution_count": 56,
   "metadata": {},
   "outputs": [
    {
     "data": {
      "text/plain": [
       "IsolationForest(contamination=0.03, n_estimators=50)"
      ]
     },
     "execution_count": 56,
     "metadata": {},
     "output_type": "execute_result"
    }
   ],
   "source": [
    "#Second run, trying to make anomaly detection more selective\n",
    "#Increase estimators?\n",
    "#Decrease contamination?\n",
    "model2=IsolationForest(n_estimators=50, max_samples='auto', contamination=float(0.03),max_features=1.0)\n",
    "model2.fit(initialData[['value']])"
   ]
  },
  {
   "cell_type": "code",
   "execution_count": 57,
   "metadata": {},
   "outputs": [
    {
     "data": {
      "text/html": [
       "<div>\n",
       "<style scoped>\n",
       "    .dataframe tbody tr th:only-of-type {\n",
       "        vertical-align: middle;\n",
       "    }\n",
       "\n",
       "    .dataframe tbody tr th {\n",
       "        vertical-align: top;\n",
       "    }\n",
       "\n",
       "    .dataframe thead th {\n",
       "        text-align: right;\n",
       "    }\n",
       "</style>\n",
       "<table border=\"1\" class=\"dataframe\">\n",
       "  <thead>\n",
       "    <tr style=\"text-align: right;\">\n",
       "      <th></th>\n",
       "      <th>timestamp</th>\n",
       "      <th>value</th>\n",
       "      <th>scores</th>\n",
       "      <th>anomaly</th>\n",
       "    </tr>\n",
       "  </thead>\n",
       "  <tbody>\n",
       "    <tr>\n",
       "      <th>0</th>\n",
       "      <td>2014-04-01 00:00:00</td>\n",
       "      <td>19.761252</td>\n",
       "      <td>0.232475</td>\n",
       "      <td>1</td>\n",
       "    </tr>\n",
       "    <tr>\n",
       "      <th>1</th>\n",
       "      <td>2014-04-01 00:05:00</td>\n",
       "      <td>20.500833</td>\n",
       "      <td>0.249800</td>\n",
       "      <td>1</td>\n",
       "    </tr>\n",
       "    <tr>\n",
       "      <th>2</th>\n",
       "      <td>2014-04-01 00:10:00</td>\n",
       "      <td>19.961641</td>\n",
       "      <td>0.237108</td>\n",
       "      <td>1</td>\n",
       "    </tr>\n",
       "    <tr>\n",
       "      <th>3</th>\n",
       "      <td>2014-04-01 00:15:00</td>\n",
       "      <td>21.490266</td>\n",
       "      <td>0.232723</td>\n",
       "      <td>1</td>\n",
       "    </tr>\n",
       "    <tr>\n",
       "      <th>4</th>\n",
       "      <td>2014-04-01 00:20:00</td>\n",
       "      <td>20.187739</td>\n",
       "      <td>0.246635</td>\n",
       "      <td>1</td>\n",
       "    </tr>\n",
       "    <tr>\n",
       "      <th>5</th>\n",
       "      <td>2014-04-01 00:25:00</td>\n",
       "      <td>19.923126</td>\n",
       "      <td>0.231679</td>\n",
       "      <td>1</td>\n",
       "    </tr>\n",
       "    <tr>\n",
       "      <th>6</th>\n",
       "      <td>2014-04-01 00:30:00</td>\n",
       "      <td>21.698404</td>\n",
       "      <td>0.233353</td>\n",
       "      <td>1</td>\n",
       "    </tr>\n",
       "    <tr>\n",
       "      <th>7</th>\n",
       "      <td>2014-04-01 00:35:00</td>\n",
       "      <td>20.878758</td>\n",
       "      <td>0.255999</td>\n",
       "      <td>1</td>\n",
       "    </tr>\n",
       "    <tr>\n",
       "      <th>8</th>\n",
       "      <td>2014-04-01 00:40:00</td>\n",
       "      <td>18.446200</td>\n",
       "      <td>0.191461</td>\n",
       "      <td>1</td>\n",
       "    </tr>\n",
       "    <tr>\n",
       "      <th>9</th>\n",
       "      <td>2014-04-01 00:45:00</td>\n",
       "      <td>18.710818</td>\n",
       "      <td>0.199828</td>\n",
       "      <td>1</td>\n",
       "    </tr>\n",
       "    <tr>\n",
       "      <th>10</th>\n",
       "      <td>2014-04-01 00:50:00</td>\n",
       "      <td>21.148491</td>\n",
       "      <td>0.233301</td>\n",
       "      <td>1</td>\n",
       "    </tr>\n",
       "    <tr>\n",
       "      <th>11</th>\n",
       "      <td>2014-04-01 00:55:00</td>\n",
       "      <td>21.343405</td>\n",
       "      <td>0.229373</td>\n",
       "      <td>1</td>\n",
       "    </tr>\n",
       "    <tr>\n",
       "      <th>12</th>\n",
       "      <td>2014-04-01 01:00:00</td>\n",
       "      <td>20.180763</td>\n",
       "      <td>0.246635</td>\n",
       "      <td>1</td>\n",
       "    </tr>\n",
       "    <tr>\n",
       "      <th>13</th>\n",
       "      <td>2014-04-01 01:05:00</td>\n",
       "      <td>20.217821</td>\n",
       "      <td>0.246707</td>\n",
       "      <td>1</td>\n",
       "    </tr>\n",
       "    <tr>\n",
       "      <th>14</th>\n",
       "      <td>2014-04-01 01:10:00</td>\n",
       "      <td>20.527732</td>\n",
       "      <td>0.250053</td>\n",
       "      <td>1</td>\n",
       "    </tr>\n",
       "    <tr>\n",
       "      <th>15</th>\n",
       "      <td>2014-04-01 01:15:00</td>\n",
       "      <td>19.756463</td>\n",
       "      <td>0.232844</td>\n",
       "      <td>1</td>\n",
       "    </tr>\n",
       "    <tr>\n",
       "      <th>16</th>\n",
       "      <td>2014-04-01 01:20:00</td>\n",
       "      <td>20.720796</td>\n",
       "      <td>0.262292</td>\n",
       "      <td>1</td>\n",
       "    </tr>\n",
       "    <tr>\n",
       "      <th>17</th>\n",
       "      <td>2014-04-01 01:25:00</td>\n",
       "      <td>18.433925</td>\n",
       "      <td>0.191461</td>\n",
       "      <td>1</td>\n",
       "    </tr>\n",
       "    <tr>\n",
       "      <th>18</th>\n",
       "      <td>2014-04-01 01:30:00</td>\n",
       "      <td>21.845117</td>\n",
       "      <td>0.226655</td>\n",
       "      <td>1</td>\n",
       "    </tr>\n",
       "    <tr>\n",
       "      <th>19</th>\n",
       "      <td>2014-04-01 01:35:00</td>\n",
       "      <td>21.000619</td>\n",
       "      <td>0.255084</td>\n",
       "      <td>1</td>\n",
       "    </tr>\n",
       "  </tbody>\n",
       "</table>\n",
       "</div>"
      ],
      "text/plain": [
       "             timestamp      value    scores  anomaly\n",
       "0  2014-04-01 00:00:00  19.761252  0.232475        1\n",
       "1  2014-04-01 00:05:00  20.500833  0.249800        1\n",
       "2  2014-04-01 00:10:00  19.961641  0.237108        1\n",
       "3  2014-04-01 00:15:00  21.490266  0.232723        1\n",
       "4  2014-04-01 00:20:00  20.187739  0.246635        1\n",
       "5  2014-04-01 00:25:00  19.923126  0.231679        1\n",
       "6  2014-04-01 00:30:00  21.698404  0.233353        1\n",
       "7  2014-04-01 00:35:00  20.878758  0.255999        1\n",
       "8  2014-04-01 00:40:00  18.446200  0.191461        1\n",
       "9  2014-04-01 00:45:00  18.710818  0.199828        1\n",
       "10 2014-04-01 00:50:00  21.148491  0.233301        1\n",
       "11 2014-04-01 00:55:00  21.343405  0.229373        1\n",
       "12 2014-04-01 01:00:00  20.180763  0.246635        1\n",
       "13 2014-04-01 01:05:00  20.217821  0.246707        1\n",
       "14 2014-04-01 01:10:00  20.527732  0.250053        1\n",
       "15 2014-04-01 01:15:00  19.756463  0.232844        1\n",
       "16 2014-04-01 01:20:00  20.720796  0.262292        1\n",
       "17 2014-04-01 01:25:00  18.433925  0.191461        1\n",
       "18 2014-04-01 01:30:00  21.845117  0.226655        1\n",
       "19 2014-04-01 01:35:00  21.000619  0.255084        1"
      ]
     },
     "execution_count": 57,
     "metadata": {},
     "output_type": "execute_result"
    }
   ],
   "source": [
    "initialData['scores']=model2.decision_function(initialData[['value']])\n",
    "initialData['anomaly']=model2.predict(initialData[['value']])\n",
    "initialData.head(20)"
   ]
  },
  {
   "cell_type": "code",
   "execution_count": 58,
   "metadata": {},
   "outputs": [
    {
     "name": "stdout",
     "output_type": "stream",
     "text": [
      "               timestamp       value    scores  anomaly\n",
      "2988 2014-04-11 09:00:00  127.882020 -0.057445       -1\n",
      "2989 2014-04-11 09:05:00  115.705719 -0.027839       -1\n",
      "2990 2014-04-11 09:10:00  122.386410 -0.052633       -1\n",
      "2991 2014-04-11 09:15:00  127.261178 -0.057445       -1\n",
      "2992 2014-04-11 09:20:00  121.157997 -0.047558       -1\n",
      "...                  ...         ...       ...      ...\n",
      "3103 2014-04-11 18:35:00   48.261356 -0.033726       -1\n",
      "3104 2014-04-11 18:40:00   42.989337 -0.024589       -1\n",
      "3105 2014-04-11 18:45:00   46.973834 -0.032793       -1\n",
      "3106 2014-04-11 18:50:00   44.057203 -0.026434       -1\n",
      "3107 2014-04-11 18:55:00   48.732318 -0.033726       -1\n",
      "\n",
      "[120 rows x 4 columns]\n"
     ]
    }
   ],
   "source": [
    "anomaly2=initialData.loc[initialData['anomaly']==-1]\n",
    "anomaly2_index=list(anomaly2.index)\n",
    "print(anomaly2)"
   ]
  },
  {
   "cell_type": "code",
   "execution_count": 59,
   "metadata": {},
   "outputs": [
    {
     "data": {
      "text/plain": [
       "<matplotlib.axes._subplots.AxesSubplot at 0x1e414841b20>"
      ]
     },
     "execution_count": 59,
     "metadata": {},
     "output_type": "execute_result"
    },
    {
     "data": {
      "image/png": "[encoded data removed]",
      "text/plain": [
       "<Figure size 432x288 with 1 Axes>"
      ]
     },
     "metadata": {
      "needs_background": "light"
     },
     "output_type": "display_data"
    }
   ],
   "source": [
    "anomaly2.plot.scatter(x='timestamp', y='value')"
   ]
  },
  {
   "cell_type": "code",
   "execution_count": null,
   "metadata": {},
   "outputs": [],
   "source": []
  }
 ],
 "metadata": {
  "kernelspec": {
   "display_name": "Python 3",
   "language": "python",
   "name": "python3"
  },
  "language_info": {
   "codemirror_mode": {
    "name": "ipython",
    "version": 3
   },
   "file_extension": ".py",
   "mimetype": "text/x-python",
   "name": "python",
   "nbconvert_exporter": "python",
   "pygments_lexer": "ipython3",
   "version": "3.8.3"
  }
 },
 "nbformat": 4,
 "nbformat_minor": 4
}
